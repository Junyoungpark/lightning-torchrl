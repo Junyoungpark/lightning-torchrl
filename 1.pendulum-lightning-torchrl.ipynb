{
  "cells": [
    {
      "cell_type": "code",
      "execution_count": 1,
      "metadata": {
        "collapsed": false
      },
      "outputs": [],
      "source": [
        "%matplotlib inline"
      ]
    },
    {
      "attachments": {},
      "cell_type": "markdown",
      "metadata": {},
      "source": [
        "## Pendulum: Custom environment with TorchRL and PyTorch Lightning\n",
        "\n",
        "This notebook shows how to use TorchRL with PyTorch Lightning. The first part is almost straight up copy-paste from the [pendulum TorchRL tutorial](https://pytorch.org/rl/tutorials/pendulum.html) notebook. The second part shows how to use the same environment with PyTorch Lightning."
      ]
    },
    {
      "attachments": {},
      "cell_type": "markdown",
      "metadata": {},
      "source": [
        "### Why TorchRL?\n",
        "While `gym` is a great library, it may not be very flexible and has limitations (such as, need to run environments on CPU). This is where the new `torchrl` comes into play\n",
        "- Batched environments\n",
        "- Easy to use and extend. TensorDicts are a great way to handle data\n",
        "- Can use in on GPU(s) and interface with PyTorch Lightning\n",
        "- ...[and more](https://github.com/pytorch/rl)\n",
        "\n",
        "### Why PyTorch Lightning?\n",
        "- Faster development\n",
        "- Easy to use\n",
        "- Full of features: more science, less engineering\n",
        "- ...[and more](https://github.com/Lightning-AI/lightning)"
      ]
    },
    {
      "cell_type": "code",
      "execution_count": 2,
      "metadata": {
        "collapsed": false
      },
      "outputs": [
        {
          "name": "stderr",
          "output_type": "stream",
          "text": [
            "/home/botu/Dev/Sym-NCO/env/lib/python3.9/site-packages/torch/distributed/_shard/partial_tensor.py:40: UserWarning: Please use DTensor instead and we are deprecating ShardedTensor.\n",
            "  warnings.warn(DEPRECATE_MSG)\n",
            "/home/botu/Dev/Sym-NCO/env/lib/python3.9/site-packages/torch/distributed/_shard/replicated_tensor.py:20: UserWarning: Please use DTensor instead and we are deprecating ShardedTensor.\n",
            "  warnings.warn(DEPRECATE_MSG)\n",
            "/home/botu/Dev/Sym-NCO/env/lib/python3.9/site-packages/torchvision/transforms/functional_tensor.py:5: UserWarning: The torchvision.transforms.functional_tensor module is deprecated in 0.15 and will be **removed in 0.17**. Please don't rely on it. You probably just need to use APIs in torchvision.transforms.functional or in torchvision.transforms.v2.functional.\n",
            "  warnings.warn(\n"
          ]
        }
      ],
      "source": [
        "from collections import defaultdict\n",
        "from typing import Optional\n",
        "\n",
        "import numpy as np\n",
        "import torch\n",
        "from tensordict.nn import TensorDictModule\n",
        "from tensordict.tensordict import TensorDict, TensorDictBase\n",
        "from torch import nn\n",
        "from torch.utils.data import DataLoader, Dataset\n",
        "import pytorch_lightning as pl\n",
        "\n",
        "from torchrl.data import BoundedTensorSpec, CompositeSpec, UnboundedContinuousTensorSpec\n",
        "from torchrl.envs import (\n",
        "    CatTensors,\n",
        "    EnvBase,\n",
        "    Transform,\n",
        "    TransformedEnv,\n",
        "    UnsqueezeTransform,\n",
        ")\n",
        "from torchrl.envs.transforms.transforms import _apply_to_composite\n",
        "from torchrl.envs.utils import check_env_specs, step_mdp"
      ]
    },
    {
      "attachments": {},
      "cell_type": "markdown",
      "metadata": {},
      "source": [
        "## Making the custom environment"
      ]
    },
    {
      "attachments": {},
      "cell_type": "markdown",
      "metadata": {},
      "source": [
        "### Environment Step\n",
        "This defines the state update of the pendulum gived a TensorDict  (`td` in the code) of the current state and the action to take:"
      ]
    },
    {
      "cell_type": "code",
      "execution_count": 3,
      "metadata": {
        "collapsed": false
      },
      "outputs": [],
      "source": [
        "DEFAULT_X = np.pi\n",
        "DEFAULT_Y = 1.0\n",
        "\n",
        "def _step(td):\n",
        "    # td is shorthand for tensordict\n",
        "\n",
        "    th, thdot = td[\"th\"], td[\"thdot\"]  # th := theta\n",
        "\n",
        "    g_force = td[\"params\", \"g\"]\n",
        "    mass = td[\"params\", \"m\"]\n",
        "    length = td[\"params\", \"l\"]\n",
        "    dt = td[\"params\", \"dt\"]\n",
        "    u = td[\"action\"].squeeze(-1)\n",
        "    u = u.clamp(-td[\"params\", \"max_torque\"], td[\"params\", \"max_torque\"])\n",
        "    costs = angle_normalize(th) ** 2 + 0.1 * thdot**2 + 0.001 * (u**2)\n",
        "\n",
        "    new_thdot = (\n",
        "        thdot\n",
        "        + (3 * g_force / (2 * length) * th.sin() + 3.0 / (mass * length**2) * u) * dt\n",
        "    )\n",
        "    new_thdot = new_thdot.clamp(\n",
        "        -td[\"params\", \"max_speed\"], td[\"params\", \"max_speed\"]\n",
        "    )\n",
        "    new_th = th + new_thdot * dt\n",
        "    reward = -costs.view(*td.shape, 1)\n",
        "    done = torch.zeros_like(reward, dtype=torch.bool)\n",
        "    out = TensorDict(\n",
        "        {\n",
        "            \"th\": new_th,\n",
        "            \"thdot\": new_thdot,\n",
        "            \"params\": td[\"params\"],\n",
        "            \"reward\": reward,\n",
        "            \"done\": done,\n",
        "        },\n",
        "        td.shape,\n",
        "    )\n",
        "\n",
        "    return out\n",
        "\n",
        "\n",
        "def angle_normalize(x):\n",
        "    return ((x + torch.pi) % (2 * torch.pi)) - torch.pi"
      ]
    },
    {
      "attachments": {},
      "cell_type": "markdown",
      "metadata": {},
      "source": [
        "### Environment Reset\n",
        "\n",
        "This defines the reset of the pendulum. It returns a `TensorDict` of the initial state:\n"
      ]
    },
    {
      "cell_type": "code",
      "execution_count": 4,
      "metadata": {
        "collapsed": false
      },
      "outputs": [],
      "source": [
        "def _reset(self, td):\n",
        "    # td = tensordict\n",
        "    if td is None or td.is_empty():\n",
        "        # if no tensordict is passed, we generate a single set of hyperparameters\n",
        "        # Otherwise, we assume that the input tensordict contains all the relevant\n",
        "        # parameters to get started.\n",
        "        td = self.gen_params(batch_size=self.batch_size)\n",
        "\n",
        "\n",
        "    high_th = torch.tensor(DEFAULT_X)#, device=device)\n",
        "    high_thdot = torch.tensor(DEFAULT_Y)#, device=device)\n",
        "    low_th = -high_th\n",
        "    low_thdot = -high_thdot\n",
        "\n",
        "    # for non batch-locked envs, the input tensordict shape dictates the number\n",
        "    # of simulators run simultaneously. In other contexts, the initial\n",
        "    # random state's shape will depend upon the environment batch-size instead.\n",
        "    th = (\n",
        "        torch.rand(td.shape, generator=self.rng)# , device=device)\n",
        "        * (high_th - low_th)\n",
        "        + low_th\n",
        "    )\n",
        "    thdot = (\n",
        "        torch.rand(td.shape, generator=self.rng) #, device=device)\n",
        "        * (high_thdot - low_thdot)\n",
        "        + low_thdot\n",
        "    )\n",
        "    out = TensorDict(\n",
        "        {\n",
        "            \"th\": th,\n",
        "            \"thdot\": thdot,\n",
        "            \"params\": td[\"params\"],\n",
        "        },\n",
        "        batch_size=td.shape,\n",
        "    )\n",
        "    return out"
      ]
    },
    {
      "attachments": {},
      "cell_type": "markdown",
      "metadata": {},
      "source": [
        "### Environment metadata\n",
        "This defines the input and output domains of the environment - similar to `gym`'s `spaces`:"
      ]
    },
    {
      "cell_type": "code",
      "execution_count": 5,
      "metadata": {
        "collapsed": false
      },
      "outputs": [],
      "source": [
        "def _make_spec(self, td_params):\n",
        "    self.observation_spec = CompositeSpec(\n",
        "        th=BoundedTensorSpec(\n",
        "            minimum=-torch.pi,\n",
        "            maximum=torch.pi,\n",
        "            shape=(),\n",
        "            dtype=torch.float32,\n",
        "        ),\n",
        "        thdot=BoundedTensorSpec(\n",
        "            minimum=-td_params[\"params\", \"max_speed\"],\n",
        "            maximum=td_params[\"params\", \"max_speed\"],\n",
        "            shape=(),\n",
        "            dtype=torch.float32,\n",
        "        ),\n",
        "        # we need to add the \"params\" to the observation specs, as we want\n",
        "        # to pass it at each step during a rollout\n",
        "        params=make_composite_from_td(td_params[\"params\"]),#.to(self.device)),\n",
        "        shape=(),\n",
        "        # device=self.device,\n",
        "    )\n",
        "    # since the environment is stateless, we expect the previous output as input\n",
        "    self.input_spec = self.observation_spec.clone()\n",
        "    # action-spec will be automatically wrapped in input_spec, but the convenient\n",
        "    # self.action_spec = spec is supported\n",
        "    self.action_spec = BoundedTensorSpec(\n",
        "        minimum=-td_params[\"params\", \"max_torque\"],\n",
        "        maximum=td_params[\"params\", \"max_torque\"],\n",
        "        shape=(1,),\n",
        "        dtype=torch.float32,\n",
        "    )\n",
        "    self.reward_spec = UnboundedContinuousTensorSpec(shape=(*td_params.shape, 1))\n",
        "\n",
        "\n",
        "def make_composite_from_td(td):\n",
        "    # custom funtion to convert a tensordict in a similar spec structure\n",
        "    # of unbounded values.\n",
        "    composite = CompositeSpec(\n",
        "        {\n",
        "            key: make_composite_from_td(tensor)\n",
        "            if isinstance(tensor, TensorDictBase)\n",
        "            else UnboundedContinuousTensorSpec(\n",
        "                dtype=tensor.dtype, shape=tensor.shape #device=tensor.device, \n",
        "            )\n",
        "            for key, tensor in td.items()\n",
        "        },\n",
        "        shape=td.shape,\n",
        "    )\n",
        "    return composite"
      ]
    },
    {
      "attachments": {},
      "cell_type": "markdown",
      "metadata": {},
      "source": [
        "### Seeding for reproducible experiments"
      ]
    },
    {
      "cell_type": "code",
      "execution_count": 6,
      "metadata": {
        "collapsed": false
      },
      "outputs": [],
      "source": [
        "def _set_seed(self, seed: Optional[int]):\n",
        "    rng = torch.manual_seed(seed)\n",
        "    self.rng = rng"
      ]
    },
    {
      "attachments": {},
      "cell_type": "markdown",
      "metadata": {},
      "source": [
        "### Parameter generation\n",
        "This function deterministically generates the parameters for the environment:"
      ]
    },
    {
      "cell_type": "code",
      "execution_count": 7,
      "metadata": {
        "collapsed": false
      },
      "outputs": [],
      "source": [
        "def gen_params(g=10.0, batch_size=None) -> TensorDictBase:\n",
        "    \"\"\"Returns a tensordict containing the physical parameters such as gravitational force and torque or speed limits.\"\"\"\n",
        "    if batch_size is None:\n",
        "        batch_size = []\n",
        "    td = TensorDict(\n",
        "        {\n",
        "            \"params\": TensorDict(\n",
        "                {\n",
        "                    \"max_speed\": 8,\n",
        "                    \"max_torque\": 2.0,\n",
        "                    \"dt\": 0.05,\n",
        "                    \"g\": g,\n",
        "                    \"m\": 1.0,\n",
        "                    \"l\": 1.0,\n",
        "                },\n",
        "                [],\n",
        "            )\n",
        "        },\n",
        "        [],\n",
        "        # device=device\n",
        "    )\n",
        "    if batch_size:\n",
        "        td = td.expand(batch_size).contiguous()\n",
        "    return td"
      ]
    },
    {
      "attachments": {},
      "cell_type": "markdown",
      "metadata": {},
      "source": [
        "### Environment creation\n",
        "Here we use `EnvBase` to create the environment similarly to `gym`:"
      ]
    },
    {
      "cell_type": "code",
      "execution_count": 8,
      "metadata": {
        "collapsed": false
      },
      "outputs": [],
      "source": [
        "class PendulumEnv(EnvBase):\n",
        "    metadata = {\n",
        "        \"render_modes\": [\"human\", \"rgb_array\"],\n",
        "        \"render_fps\": 30,\n",
        "    }\n",
        "    batch_locked = False\n",
        "\n",
        "    def __init__(self, td_params=None, seed=None, device=\"cpu\"):\n",
        "        if td_params is None:\n",
        "            td_params = self.gen_params()\n",
        "        \n",
        "        # print(td_params)\n",
        "\n",
        "        super().__init__(device=device, batch_size=[])\n",
        "        self._make_spec(td_params)\n",
        "        if seed is None:\n",
        "            seed = torch.empty((), dtype=torch.int64).random_().item()\n",
        "        self.set_seed(seed)\n",
        "\n",
        "    def state_dict(self, *args, **kwargs):\n",
        "        pass # we set this function for compatibility\n",
        "\n",
        "    # Helpers: _make_step and gen_params\n",
        "    gen_params = staticmethod(gen_params)\n",
        "    _make_spec = _make_spec\n",
        "\n",
        "    # Mandatory methods: _step, _reset and _set_seed\n",
        "    _reset = _reset\n",
        "    _step = staticmethod(_step)\n",
        "    _set_seed = _set_seed\n"
      ]
    },
    {
      "attachments": {},
      "cell_type": "markdown",
      "metadata": {},
      "source": [
        "### Testing the environment"
      ]
    },
    {
      "cell_type": "code",
      "execution_count": 9,
      "metadata": {
        "collapsed": false
      },
      "outputs": [
        {
          "name": "stdout",
          "output_type": "stream",
          "text": [
            "check_env_specs succeeded!\n"
          ]
        }
      ],
      "source": [
        "env = PendulumEnv()\n",
        "check_env_specs(env)"
      ]
    },
    {
      "cell_type": "code",
      "execution_count": 10,
      "metadata": {
        "collapsed": false
      },
      "outputs": [
        {
          "name": "stdout",
          "output_type": "stream",
          "text": [
            "reset tensordict TensorDict(\n",
            "    fields={\n",
            "        done: Tensor(shape=torch.Size([1]), device=cpu, dtype=torch.bool, is_shared=False),\n",
            "        params: TensorDict(\n",
            "            fields={\n",
            "                dt: Tensor(shape=torch.Size([]), device=cpu, dtype=torch.float32, is_shared=False),\n",
            "                g: Tensor(shape=torch.Size([]), device=cpu, dtype=torch.float32, is_shared=False),\n",
            "                l: Tensor(shape=torch.Size([]), device=cpu, dtype=torch.float32, is_shared=False),\n",
            "                m: Tensor(shape=torch.Size([]), device=cpu, dtype=torch.float32, is_shared=False),\n",
            "                max_speed: Tensor(shape=torch.Size([]), device=cpu, dtype=torch.int64, is_shared=False),\n",
            "                max_torque: Tensor(shape=torch.Size([]), device=cpu, dtype=torch.float32, is_shared=False)},\n",
            "            batch_size=torch.Size([]),\n",
            "            device=cpu,\n",
            "            is_shared=False),\n",
            "        th: Tensor(shape=torch.Size([]), device=cpu, dtype=torch.float32, is_shared=False),\n",
            "        thdot: Tensor(shape=torch.Size([]), device=cpu, dtype=torch.float32, is_shared=False)},\n",
            "    batch_size=torch.Size([]),\n",
            "    device=cpu,\n",
            "    is_shared=False)\n"
          ]
        }
      ],
      "source": [
        "td = env.reset()\n",
        "print(\"reset tensordict\", td)"
      ]
    },
    {
      "cell_type": "code",
      "execution_count": 11,
      "metadata": {},
      "outputs": [
        {
          "name": "stdout",
          "output_type": "stream",
          "text": [
            "random step tensordict TensorDict(\n",
            "    fields={\n",
            "        action: Tensor(shape=torch.Size([1]), device=cpu, dtype=torch.float32, is_shared=False),\n",
            "        done: Tensor(shape=torch.Size([1]), device=cpu, dtype=torch.bool, is_shared=False),\n",
            "        next: TensorDict(\n",
            "            fields={\n",
            "                params: TensorDict(\n",
            "                    fields={\n",
            "                        dt: Tensor(shape=torch.Size([]), device=cpu, dtype=torch.float32, is_shared=False),\n",
            "                        g: Tensor(shape=torch.Size([]), device=cpu, dtype=torch.float32, is_shared=False),\n",
            "                        l: Tensor(shape=torch.Size([]), device=cpu, dtype=torch.float32, is_shared=False),\n",
            "                        m: Tensor(shape=torch.Size([]), device=cpu, dtype=torch.float32, is_shared=False),\n",
            "                        max_speed: Tensor(shape=torch.Size([]), device=cpu, dtype=torch.int64, is_shared=False),\n",
            "                        max_torque: Tensor(shape=torch.Size([]), device=cpu, dtype=torch.float32, is_shared=False)},\n",
            "                    batch_size=torch.Size([]),\n",
            "                    device=cpu,\n",
            "                    is_shared=False),\n",
            "                th: Tensor(shape=torch.Size([]), device=cpu, dtype=torch.float32, is_shared=False),\n",
            "                thdot: Tensor(shape=torch.Size([]), device=cpu, dtype=torch.float32, is_shared=False)},\n",
            "            batch_size=torch.Size([]),\n",
            "            device=cpu,\n",
            "            is_shared=False),\n",
            "        params: TensorDict(\n",
            "            fields={\n",
            "                dt: Tensor(shape=torch.Size([]), device=cpu, dtype=torch.float32, is_shared=False),\n",
            "                g: Tensor(shape=torch.Size([]), device=cpu, dtype=torch.float32, is_shared=False),\n",
            "                l: Tensor(shape=torch.Size([]), device=cpu, dtype=torch.float32, is_shared=False),\n",
            "                m: Tensor(shape=torch.Size([]), device=cpu, dtype=torch.float32, is_shared=False),\n",
            "                max_speed: Tensor(shape=torch.Size([]), device=cpu, dtype=torch.int64, is_shared=False),\n",
            "                max_torque: Tensor(shape=torch.Size([]), device=cpu, dtype=torch.float32, is_shared=False)},\n",
            "            batch_size=torch.Size([]),\n",
            "            device=cpu,\n",
            "            is_shared=False),\n",
            "        reward: Tensor(shape=torch.Size([1]), device=cpu, dtype=torch.float32, is_shared=False),\n",
            "        th: Tensor(shape=torch.Size([]), device=cpu, dtype=torch.float32, is_shared=False),\n",
            "        thdot: Tensor(shape=torch.Size([]), device=cpu, dtype=torch.float32, is_shared=False)},\n",
            "    batch_size=torch.Size([]),\n",
            "    device=cpu,\n",
            "    is_shared=False)\n"
          ]
        }
      ],
      "source": [
        "td = env.rand_step(td)\n",
        "print(\"random step tensordict\", td)"
      ]
    },
    {
      "attachments": {},
      "cell_type": "markdown",
      "metadata": {},
      "source": [
        "### Transforms\n",
        "\n",
        "We can apply transforms to the environment for stacking dimensions or creating new states:"
      ]
    },
    {
      "cell_type": "code",
      "execution_count": 12,
      "metadata": {
        "collapsed": false
      },
      "outputs": [],
      "source": [
        "env = TransformedEnv(\n",
        "    env,\n",
        "    # Unsqueezes the observations that we will concatenate\n",
        "    UnsqueezeTransform(\n",
        "        unsqueeze_dim=-1,\n",
        "        in_keys=[\"th\", \"thdot\"],\n",
        "        in_keys_inv=[\"th\", \"thdot\"],\n",
        "    ),\n",
        ")"
      ]
    },
    {
      "cell_type": "code",
      "execution_count": 13,
      "metadata": {
        "collapsed": false
      },
      "outputs": [],
      "source": [
        "class SinTransform(Transform):\n",
        "    def _apply_transform(self, obs: torch.Tensor) -> None:\n",
        "        return obs.sin()\n",
        "\n",
        "    # _apply_to_composite will execute the observation spec transform across all\n",
        "    # in_keys/out_keys pairs and write the result in the observation_spec which\n",
        "    # is of type ``Composite``\n",
        "    @_apply_to_composite\n",
        "    def transform_observation_spec(self, observation_spec):\n",
        "        return BoundedTensorSpec(\n",
        "            minimum=-1,\n",
        "            maximum=1,\n",
        "            shape=observation_spec.shape,\n",
        "            dtype=observation_spec.dtype,\n",
        "            # device=observation_spec.device,\n",
        "        )\n",
        "\n",
        "\n",
        "class CosTransform(Transform):\n",
        "    def _apply_transform(self, obs: torch.Tensor) -> None:\n",
        "        return obs.cos()\n",
        "\n",
        "    # _apply_to_composite will execute the observation spec transform across all\n",
        "    # in_keys/out_keys pairs and write the result in the observation_spec which\n",
        "    # is of type ``Composite``\n",
        "    @_apply_to_composite\n",
        "    def transform_observation_spec(self, observation_spec):\n",
        "        return BoundedTensorSpec(\n",
        "            minimum=-1,\n",
        "            maximum=1,\n",
        "            shape=observation_spec.shape,\n",
        "            dtype=observation_spec.dtype,\n",
        "            # device=observation_spec.device,\n",
        "        )\n",
        "\n",
        "\n",
        "t_sin = SinTransform(in_keys=[\"th\"], out_keys=[\"sin\"])\n",
        "t_cos = CosTransform(in_keys=[\"th\"], out_keys=[\"cos\"])\n",
        "env.append_transform(t_sin)\n",
        "env.append_transform(t_cos)"
      ]
    },
    {
      "cell_type": "markdown",
      "metadata": {},
      "source": [
        "Concatenates the observations onto an \"observation\" entry.\n",
        "del_keys=False ensures that we keep these values for the next\n",
        "iteration.\n",
        "\n"
      ]
    },
    {
      "cell_type": "code",
      "execution_count": 14,
      "metadata": {
        "collapsed": false
      },
      "outputs": [],
      "source": [
        "cat_transform = CatTensors(\n",
        "    in_keys=[\"sin\", \"cos\", \"thdot\"], dim=-1, out_key=\"observation\", del_keys=False\n",
        ")\n",
        "env.append_transform(cat_transform)"
      ]
    },
    {
      "cell_type": "markdown",
      "metadata": {},
      "source": [
        "Once more, let us check that our env specs match what is received:\n",
        "\n"
      ]
    },
    {
      "cell_type": "code",
      "execution_count": 15,
      "metadata": {
        "collapsed": false
      },
      "outputs": [
        {
          "name": "stdout",
          "output_type": "stream",
          "text": [
            "check_env_specs succeeded!\n"
          ]
        }
      ],
      "source": [
        "check_env_specs(env)"
      ]
    },
    {
      "attachments": {},
      "cell_type": "markdown",
      "metadata": {},
      "source": [
        "### Executing a simple rollout"
      ]
    },
    {
      "cell_type": "code",
      "execution_count": 16,
      "metadata": {
        "collapsed": false
      },
      "outputs": [
        {
          "name": "stdout",
          "output_type": "stream",
          "text": [
            "data from rollout: TensorDict(\n",
            "    fields={\n",
            "        action: Tensor(shape=torch.Size([100, 1]), device=cpu, dtype=torch.float32, is_shared=False),\n",
            "        cos: Tensor(shape=torch.Size([100, 1]), device=cpu, dtype=torch.float32, is_shared=False),\n",
            "        done: Tensor(shape=torch.Size([100, 1]), device=cpu, dtype=torch.bool, is_shared=False),\n",
            "        next: TensorDict(\n",
            "            fields={\n",
            "                cos: Tensor(shape=torch.Size([100, 1]), device=cpu, dtype=torch.float32, is_shared=False),\n",
            "                observation: Tensor(shape=torch.Size([100, 3]), device=cpu, dtype=torch.float32, is_shared=False),\n",
            "                params: TensorDict(\n",
            "                    fields={\n",
            "                        dt: Tensor(shape=torch.Size([100]), device=cpu, dtype=torch.float32, is_shared=False),\n",
            "                        g: Tensor(shape=torch.Size([100]), device=cpu, dtype=torch.float32, is_shared=False),\n",
            "                        l: Tensor(shape=torch.Size([100]), device=cpu, dtype=torch.float32, is_shared=False),\n",
            "                        m: Tensor(shape=torch.Size([100]), device=cpu, dtype=torch.float32, is_shared=False),\n",
            "                        max_speed: Tensor(shape=torch.Size([100]), device=cpu, dtype=torch.int64, is_shared=False),\n",
            "                        max_torque: Tensor(shape=torch.Size([100]), device=cpu, dtype=torch.float32, is_shared=False)},\n",
            "                    batch_size=torch.Size([100]),\n",
            "                    device=None,\n",
            "                    is_shared=False),\n",
            "                sin: Tensor(shape=torch.Size([100, 1]), device=cpu, dtype=torch.float32, is_shared=False),\n",
            "                th: Tensor(shape=torch.Size([100, 1]), device=cpu, dtype=torch.float32, is_shared=False),\n",
            "                thdot: Tensor(shape=torch.Size([100, 1]), device=cpu, dtype=torch.float32, is_shared=False)},\n",
            "            batch_size=torch.Size([100]),\n",
            "            device=None,\n",
            "            is_shared=False),\n",
            "        observation: Tensor(shape=torch.Size([100, 3]), device=cpu, dtype=torch.float32, is_shared=False),\n",
            "        params: TensorDict(\n",
            "            fields={\n",
            "                dt: Tensor(shape=torch.Size([100]), device=cpu, dtype=torch.float32, is_shared=False),\n",
            "                g: Tensor(shape=torch.Size([100]), device=cpu, dtype=torch.float32, is_shared=False),\n",
            "                l: Tensor(shape=torch.Size([100]), device=cpu, dtype=torch.float32, is_shared=False),\n",
            "                m: Tensor(shape=torch.Size([100]), device=cpu, dtype=torch.float32, is_shared=False),\n",
            "                max_speed: Tensor(shape=torch.Size([100]), device=cpu, dtype=torch.int64, is_shared=False),\n",
            "                max_torque: Tensor(shape=torch.Size([100]), device=cpu, dtype=torch.float32, is_shared=False)},\n",
            "            batch_size=torch.Size([100]),\n",
            "            device=None,\n",
            "            is_shared=False),\n",
            "        reward: Tensor(shape=torch.Size([100, 1]), device=cpu, dtype=torch.float32, is_shared=False),\n",
            "        sin: Tensor(shape=torch.Size([100, 1]), device=cpu, dtype=torch.float32, is_shared=False),\n",
            "        th: Tensor(shape=torch.Size([100, 1]), device=cpu, dtype=torch.float32, is_shared=False),\n",
            "        thdot: Tensor(shape=torch.Size([100, 1]), device=cpu, dtype=torch.float32, is_shared=False)},\n",
            "    batch_size=torch.Size([100]),\n",
            "    device=None,\n",
            "    is_shared=False)\n"
          ]
        }
      ],
      "source": [
        "def simple_rollout(steps=100):\n",
        "    # preallocate:\n",
        "    data = TensorDict({}, [steps])\n",
        "    # reset\n",
        "    _data = env.reset()\n",
        "    for i in range(steps):\n",
        "        _data[\"action\"] = env.action_spec.rand()\n",
        "        _data = env.step(_data)\n",
        "        data[i] = _data\n",
        "        _data = step_mdp(_data, keep_other=True)\n",
        "    return data\n",
        "\n",
        "\n",
        "print(\"data from rollout:\", simple_rollout(100))"
      ]
    },
    {
      "attachments": {},
      "cell_type": "markdown",
      "metadata": {},
      "source": [
        "### Batching computations"
      ]
    },
    {
      "cell_type": "code",
      "execution_count": 17,
      "metadata": {
        "collapsed": false
      },
      "outputs": [
        {
          "name": "stdout",
          "output_type": "stream",
          "text": [
            "reset (batch size of 10) TensorDict(\n",
            "    fields={\n",
            "        cos: Tensor(shape=torch.Size([10, 1]), device=cpu, dtype=torch.float32, is_shared=False),\n",
            "        done: Tensor(shape=torch.Size([10, 1]), device=cpu, dtype=torch.bool, is_shared=False),\n",
            "        observation: Tensor(shape=torch.Size([10, 3]), device=cpu, dtype=torch.float32, is_shared=False),\n",
            "        params: TensorDict(\n",
            "            fields={\n",
            "                dt: Tensor(shape=torch.Size([10]), device=cpu, dtype=torch.float32, is_shared=False),\n",
            "                g: Tensor(shape=torch.Size([10]), device=cpu, dtype=torch.float32, is_shared=False),\n",
            "                l: Tensor(shape=torch.Size([10]), device=cpu, dtype=torch.float32, is_shared=False),\n",
            "                m: Tensor(shape=torch.Size([10]), device=cpu, dtype=torch.float32, is_shared=False),\n",
            "                max_speed: Tensor(shape=torch.Size([10]), device=cpu, dtype=torch.int64, is_shared=False),\n",
            "                max_torque: Tensor(shape=torch.Size([10]), device=cpu, dtype=torch.float32, is_shared=False)},\n",
            "            batch_size=torch.Size([10]),\n",
            "            device=None,\n",
            "            is_shared=False),\n",
            "        sin: Tensor(shape=torch.Size([10, 1]), device=cpu, dtype=torch.float32, is_shared=False),\n",
            "        th: Tensor(shape=torch.Size([10, 1]), device=cpu, dtype=torch.float32, is_shared=False),\n",
            "        thdot: Tensor(shape=torch.Size([10, 1]), device=cpu, dtype=torch.float32, is_shared=False)},\n",
            "    batch_size=torch.Size([10]),\n",
            "    device=None,\n",
            "    is_shared=False)\n",
            "rand step (batch size of 10) TensorDict(\n",
            "    fields={\n",
            "        action: Tensor(shape=torch.Size([10, 1]), device=cpu, dtype=torch.float32, is_shared=False),\n",
            "        cos: Tensor(shape=torch.Size([10, 1]), device=cpu, dtype=torch.float32, is_shared=False),\n",
            "        done: Tensor(shape=torch.Size([10, 1]), device=cpu, dtype=torch.bool, is_shared=False),\n",
            "        next: TensorDict(\n",
            "            fields={\n",
            "                cos: Tensor(shape=torch.Size([10, 1]), device=cpu, dtype=torch.float32, is_shared=False),\n",
            "                observation: Tensor(shape=torch.Size([10, 3]), device=cpu, dtype=torch.float32, is_shared=False),\n",
            "                params: TensorDict(\n",
            "                    fields={\n",
            "                        dt: Tensor(shape=torch.Size([10]), device=cpu, dtype=torch.float32, is_shared=False),\n",
            "                        g: Tensor(shape=torch.Size([10]), device=cpu, dtype=torch.float32, is_shared=False),\n",
            "                        l: Tensor(shape=torch.Size([10]), device=cpu, dtype=torch.float32, is_shared=False),\n",
            "                        m: Tensor(shape=torch.Size([10]), device=cpu, dtype=torch.float32, is_shared=False),\n",
            "                        max_speed: Tensor(shape=torch.Size([10]), device=cpu, dtype=torch.int64, is_shared=False),\n",
            "                        max_torque: Tensor(shape=torch.Size([10]), device=cpu, dtype=torch.float32, is_shared=False)},\n",
            "                    batch_size=torch.Size([10]),\n",
            "                    device=None,\n",
            "                    is_shared=False),\n",
            "                sin: Tensor(shape=torch.Size([10, 1]), device=cpu, dtype=torch.float32, is_shared=False),\n",
            "                th: Tensor(shape=torch.Size([10, 1]), device=cpu, dtype=torch.float32, is_shared=False),\n",
            "                thdot: Tensor(shape=torch.Size([10, 1]), device=cpu, dtype=torch.float32, is_shared=False)},\n",
            "            batch_size=torch.Size([10]),\n",
            "            device=None,\n",
            "            is_shared=False),\n",
            "        observation: Tensor(shape=torch.Size([10, 3]), device=cpu, dtype=torch.float32, is_shared=False),\n",
            "        params: TensorDict(\n",
            "            fields={\n",
            "                dt: Tensor(shape=torch.Size([10]), device=cpu, dtype=torch.float32, is_shared=False),\n",
            "                g: Tensor(shape=torch.Size([10]), device=cpu, dtype=torch.float32, is_shared=False),\n",
            "                l: Tensor(shape=torch.Size([10]), device=cpu, dtype=torch.float32, is_shared=False),\n",
            "                m: Tensor(shape=torch.Size([10]), device=cpu, dtype=torch.float32, is_shared=False),\n",
            "                max_speed: Tensor(shape=torch.Size([10]), device=cpu, dtype=torch.int64, is_shared=False),\n",
            "                max_torque: Tensor(shape=torch.Size([10]), device=cpu, dtype=torch.float32, is_shared=False)},\n",
            "            batch_size=torch.Size([10]),\n",
            "            device=None,\n",
            "            is_shared=False),\n",
            "        reward: Tensor(shape=torch.Size([10, 1]), device=cpu, dtype=torch.float32, is_shared=False),\n",
            "        sin: Tensor(shape=torch.Size([10, 1]), device=cpu, dtype=torch.float32, is_shared=False),\n",
            "        th: Tensor(shape=torch.Size([10, 1]), device=cpu, dtype=torch.float32, is_shared=False),\n",
            "        thdot: Tensor(shape=torch.Size([10, 1]), device=cpu, dtype=torch.float32, is_shared=False)},\n",
            "    batch_size=torch.Size([10]),\n",
            "    device=None,\n",
            "    is_shared=False)\n"
          ]
        }
      ],
      "source": [
        "batch_size = 10  # number of environments to be executed in batch\n",
        "td = env.reset(env.gen_params(batch_size=[batch_size]))\n",
        "print(\"reset (batch size of 10)\", td)\n",
        "td = env.rand_step(td)\n",
        "print(\"rand step (batch size of 10)\", td)"
      ]
    },
    {
      "cell_type": "code",
      "execution_count": 18,
      "metadata": {
        "collapsed": false
      },
      "outputs": [
        {
          "name": "stdout",
          "output_type": "stream",
          "text": [
            "rollout of len 3 (batch size of 10): TensorDict(\n",
            "    fields={\n",
            "        action: Tensor(shape=torch.Size([10, 3, 1]), device=cpu, dtype=torch.float32, is_shared=False),\n",
            "        cos: Tensor(shape=torch.Size([10, 3, 1]), device=cpu, dtype=torch.float32, is_shared=False),\n",
            "        done: Tensor(shape=torch.Size([10, 3, 1]), device=cpu, dtype=torch.bool, is_shared=False),\n",
            "        next: TensorDict(\n",
            "            fields={\n",
            "                cos: Tensor(shape=torch.Size([10, 3, 1]), device=cpu, dtype=torch.float32, is_shared=False),\n",
            "                observation: Tensor(shape=torch.Size([10, 3, 3]), device=cpu, dtype=torch.float32, is_shared=False),\n",
            "                params: TensorDict(\n",
            "                    fields={\n",
            "                        dt: Tensor(shape=torch.Size([10, 3]), device=cpu, dtype=torch.float32, is_shared=False),\n",
            "                        g: Tensor(shape=torch.Size([10, 3]), device=cpu, dtype=torch.float32, is_shared=False),\n",
            "                        l: Tensor(shape=torch.Size([10, 3]), device=cpu, dtype=torch.float32, is_shared=False),\n",
            "                        m: Tensor(shape=torch.Size([10, 3]), device=cpu, dtype=torch.float32, is_shared=False),\n",
            "                        max_speed: Tensor(shape=torch.Size([10, 3]), device=cpu, dtype=torch.int64, is_shared=False),\n",
            "                        max_torque: Tensor(shape=torch.Size([10, 3]), device=cpu, dtype=torch.float32, is_shared=False)},\n",
            "                    batch_size=torch.Size([10, 3]),\n",
            "                    device=None,\n",
            "                    is_shared=False),\n",
            "                sin: Tensor(shape=torch.Size([10, 3, 1]), device=cpu, dtype=torch.float32, is_shared=False),\n",
            "                th: Tensor(shape=torch.Size([10, 3, 1]), device=cpu, dtype=torch.float32, is_shared=False),\n",
            "                thdot: Tensor(shape=torch.Size([10, 3, 1]), device=cpu, dtype=torch.float32, is_shared=False)},\n",
            "            batch_size=torch.Size([10, 3]),\n",
            "            device=None,\n",
            "            is_shared=False),\n",
            "        observation: Tensor(shape=torch.Size([10, 3, 3]), device=cpu, dtype=torch.float32, is_shared=False),\n",
            "        params: TensorDict(\n",
            "            fields={\n",
            "                dt: Tensor(shape=torch.Size([10, 3]), device=cpu, dtype=torch.float32, is_shared=False),\n",
            "                g: Tensor(shape=torch.Size([10, 3]), device=cpu, dtype=torch.float32, is_shared=False),\n",
            "                l: Tensor(shape=torch.Size([10, 3]), device=cpu, dtype=torch.float32, is_shared=False),\n",
            "                m: Tensor(shape=torch.Size([10, 3]), device=cpu, dtype=torch.float32, is_shared=False),\n",
            "                max_speed: Tensor(shape=torch.Size([10, 3]), device=cpu, dtype=torch.int64, is_shared=False),\n",
            "                max_torque: Tensor(shape=torch.Size([10, 3]), device=cpu, dtype=torch.float32, is_shared=False)},\n",
            "            batch_size=torch.Size([10, 3]),\n",
            "            device=None,\n",
            "            is_shared=False),\n",
            "        reward: Tensor(shape=torch.Size([10, 3, 1]), device=cpu, dtype=torch.float32, is_shared=False),\n",
            "        sin: Tensor(shape=torch.Size([10, 3, 1]), device=cpu, dtype=torch.float32, is_shared=False),\n",
            "        th: Tensor(shape=torch.Size([10, 3, 1]), device=cpu, dtype=torch.float32, is_shared=False),\n",
            "        thdot: Tensor(shape=torch.Size([10, 3, 1]), device=cpu, dtype=torch.float32, is_shared=False)},\n",
            "    batch_size=torch.Size([10, 3]),\n",
            "    device=None,\n",
            "    is_shared=False)\n"
          ]
        }
      ],
      "source": [
        "rollout = env.rollout(\n",
        "    3,\n",
        "    auto_reset=False,  # we're executing the reset out of the ``rollout`` call\n",
        "    tensordict=env.reset(env.gen_params(batch_size=[batch_size])),\n",
        ")\n",
        "print(\"rollout of len 3 (batch size of 10):\", rollout)"
      ]
    },
    {
      "attachments": {},
      "cell_type": "markdown",
      "metadata": {},
      "source": [
        "### Creating a simple policy\n",
        "\n",
        "We use a simple MLP policy. We wrap it in a `TensorDictModule` to make it compatible with `torchrl`'s `TensorDict` data format:"
      ]
    },
    {
      "cell_type": "code",
      "execution_count": 19,
      "metadata": {
        "collapsed": false
      },
      "outputs": [
        {
          "name": "stderr",
          "output_type": "stream",
          "text": [
            "/home/botu/Dev/Sym-NCO/env/lib/python3.9/site-packages/torch/nn/modules/lazy.py:180: UserWarning: Lazy modules are a new feature under heavy development so changes to the API or functionality can happen at any moment.\n",
            "  warnings.warn('Lazy modules are a new feature under heavy development '\n"
          ]
        }
      ],
      "source": [
        "torch.manual_seed(0)\n",
        "env.set_seed(0)\n",
        "\n",
        "net = nn.Sequential(\n",
        "    nn.LazyLinear(64),\n",
        "    nn.Tanh(),\n",
        "    nn.LazyLinear(64),\n",
        "    nn.Tanh(),\n",
        "    nn.LazyLinear(64),\n",
        "    nn.Tanh(),\n",
        "    nn.LazyLinear(1),\n",
        ")\n",
        "\n",
        "policy = TensorDictModule(\n",
        "    net,\n",
        "    in_keys=[\"observation\"],\n",
        "    out_keys=[\"action\"],\n",
        ")"
      ]
    },
    {
      "attachments": {},
      "cell_type": "markdown",
      "metadata": {},
      "source": [
        "### Build TorchDict Dataset\n",
        "\n",
        "We generally need a dataloader for PyTorch Lightning. We can create a `TorchDictDataset` as follows:"
      ]
    },
    {
      "cell_type": "code",
      "execution_count": 20,
      "metadata": {},
      "outputs": [],
      "source": [
        "class TorchDictDataset(Dataset):\n",
        "    def __init__(self, data):\n",
        "        # Note that we are using list comprehension here\n",
        "        # since it looks like self.data[idx] does not work otherwise\n",
        "        # we finally need to add the `torch.stack` collate_fn\n",
        "        self.data = [d for d in data]\n",
        "\n",
        "    def __len__(self):\n",
        "        return len(self.data)\n",
        "\n",
        "    def __getitem__(self, idx):\n",
        "        return self.data[idx]"
      ]
    },
    {
      "attachments": {},
      "cell_type": "markdown",
      "metadata": {},
      "source": [
        "### Hyperparameters\n",
        "\n",
        "We emulate epochs by setting a number of batches per epoch:"
      ]
    },
    {
      "cell_type": "code",
      "execution_count": 21,
      "metadata": {},
      "outputs": [
        {
          "name": "stdout",
          "output_type": "stream",
          "text": [
            "Total number of gradient steps: 480\n"
          ]
        }
      ],
      "source": [
        "batch_size = 32\n",
        "batches_per_epoch = 512 # how many batches to sample per epoch\n",
        "epochs = 30 \n",
        "lr = 2e-3 # same as TorchRL's tutorial\n",
        "rollout_len = 100 # how many steps to rollout with the policy\n",
        "total_steps = batches_per_epoch * epochs // batch_size\n",
        "print(f\"Total number of gradient steps: {total_steps}\")"
      ]
    },
    {
      "attachments": {},
      "cell_type": "markdown",
      "metadata": {},
      "source": [
        "### (Optional) Dummy forward pass\n",
        "\n",
        "It looks like we need this when using multiple GPUs to avoid this error, not sure how to make it work without this:\n",
        "\n",
        "```RuntimeError: Modules with uninitialized parameters can't be used with `DistributedDataParallel`. Run a dummy forward pass to correctly initialize the modules```"
      ]
    },
    {
      "cell_type": "code",
      "execution_count": 22,
      "metadata": {},
      "outputs": [],
      "source": [
        "data = env.gen_params(batch_size=batch_size)\n",
        "init_td = env.reset(data)\n",
        "rollout = env.rollout(100, policy, tensordict=init_td, auto_reset=False)    "
      ]
    },
    {
      "attachments": {},
      "cell_type": "markdown",
      "metadata": {},
      "source": [
        "### Lightning module\n",
        "\n",
        "This is a simple implementation of a PyTorch Lightning module. We include both the `env` and the `policy` as part of the module:"
      ]
    },
    {
      "cell_type": "code",
      "execution_count": 23,
      "metadata": {},
      "outputs": [],
      "source": [
        "class RLLightningModule(pl.LightningModule):\n",
        "    def __init__(self, env, policy):\n",
        "        super().__init__()\n",
        "        self.env = env\n",
        "        self.policy = policy\n",
        "\n",
        "    def training_step(self, batch, batch_idx):\n",
        "        rollout = self.env.rollout(rollout_len, self.policy, tensordict=batch, auto_reset=False)       \n",
        "        traj_return = rollout[\"reward\"].mean()\n",
        "        loss = -traj_return\n",
        "        self.log(\"reward\", traj_return, prog_bar=True)\n",
        "        self.log(\"last reward\", rollout[..., -1]['reward'].mean(), prog_bar=True)\n",
        "        return {\"loss\": loss}\n",
        "\n",
        "    def configure_optimizers(self):\n",
        "        optim = torch.optim.Adam(self.policy.parameters(), lr=lr)\n",
        "        scheduler = torch.optim.lr_scheduler.CosineAnnealingLR(optim, total_steps)\n",
        "        return [optim], [scheduler]\n",
        "    \n",
        "    def train_dataloader(self):\n",
        "        return self._dataloader()\n",
        "    \n",
        "    def on_fit_start(self):\n",
        "        self._generate_data()\n",
        "    \n",
        "    def on_train_epoch_end(self):\n",
        "        self._generate_data()\n",
        "\n",
        "    def _generate_data(self):\n",
        "        # Online data generation: we generate a new batch every epoch\n",
        "        data = self.env.gen_params(batch_size=batches_per_epoch)\n",
        "        init_td = self.env.reset(data)\n",
        "        self.dataset = TorchDictDataset(init_td)\n",
        "           \n",
        "    def _dataloader(self): \n",
        "        return DataLoader(\n",
        "            self.dataset,\n",
        "            batch_size=batch_size,\n",
        "            shuffle=False, # no need to shuffle, we're resampling every epoch\n",
        "            num_workers=0,\n",
        "            collate_fn=torch.stack, # we need this to stack the batches in the dataset\n",
        "        )"
      ]
    },
    {
      "attachments": {},
      "cell_type": "markdown",
      "metadata": {},
      "source": [
        "### Fit the model\n",
        "\n",
        "Here is the main training loop! It is customizable in many ways. In this example, we train on two GPUs:"
      ]
    },
    {
      "cell_type": "code",
      "execution_count": 24,
      "metadata": {},
      "outputs": [
        {
          "name": "stderr",
          "output_type": "stream",
          "text": [
            "GPU available: True (cuda), used: True\n",
            "TPU available: False, using: 0 TPU cores\n",
            "IPU available: False, using: 0 IPUs\n",
            "HPU available: False, using: 0 HPUs\n",
            "Initializing distributed: GLOBAL_RANK: 0, MEMBER: 1/2\n",
            "Initializing distributed: GLOBAL_RANK: 1, MEMBER: 2/2\n",
            "----------------------------------------------------------------------------------------------------\n",
            "distributed_backend=nccl\n",
            "All distributed processes registered. Starting with 2 processes\n",
            "----------------------------------------------------------------------------------------------------\n",
            "\n",
            "LOCAL_RANK: 0 - CUDA_VISIBLE_DEVICES: [0,1]\n",
            "LOCAL_RANK: 1 - CUDA_VISIBLE_DEVICES: [0,1]\n",
            "\n",
            "  | Name   | Type             | Params\n",
            "--------------------------------------------\n",
            "0 | env    | TransformedEnv   | 0     \n",
            "1 | policy | TensorDictModule | 8.6 K \n",
            "--------------------------------------------\n",
            "8.6 K     Trainable params\n",
            "0         Non-trainable params\n",
            "8.6 K     Total params\n",
            "0.035     Total estimated model params size (MB)\n",
            "/home/botu/Dev/Sym-NCO/env/lib/python3.9/site-packages/pytorch_lightning/trainer/connectors/data_connector.py:217: UserWarning: strategy=ddp_spawn and num_workers=0 may result in data loading bottlenecks. Consider setting num_workers>0 and persistent_workers=True\n",
            "  rank_zero_warn(\n"
          ]
        },
        {
          "name": "stdout",
          "output_type": "stream",
          "text": [
            "Epoch 0:  12%|█▎        | 1/8 [00:00<00:05,  1.23it/s, loss=6.25, v_num=9, reward=-6.25, last reward=-6.58]"
          ]
        },
        {
          "name": "stderr",
          "output_type": "stream",
          "text": [
            "[W reducer.cpp:1300] Warning: find_unused_parameters=True was specified in DDP constructor, but did not find any unused parameters in the forward pass. This flag results in an extra traversal of the autograd graph every iteration,  which can adversely affect performance. If your model indeed never has any unused parameters in the forward pass, consider turning this flag off. Note that this warning may be a false positive if your model has flow control causing later iterations to have unused parameters. (function operator())\n",
            "[W reducer.cpp:1300] Warning: find_unused_parameters=True was specified in DDP constructor, but did not find any unused parameters in the forward pass. This flag results in an extra traversal of the autograd graph every iteration,  which can adversely affect performance. If your model indeed never has any unused parameters in the forward pass, consider turning this flag off. Note that this warning may be a false positive if your model has flow control causing later iterations to have unused parameters. (function operator())\n"
          ]
        },
        {
          "name": "stdout",
          "output_type": "stream",
          "text": [
            "Epoch 29: 100%|██████████| 8/8 [00:02<00:00,  3.77it/s, loss=3.26, v_num=9, reward=-4.39, last reward=-5.05]"
          ]
        },
        {
          "name": "stderr",
          "output_type": "stream",
          "text": [
            "`Trainer.fit` stopped: `max_epochs=30` reached.\n"
          ]
        },
        {
          "name": "stdout",
          "output_type": "stream",
          "text": [
            "Epoch 29: 100%|██████████| 8/8 [00:02<00:00,  3.66it/s, loss=3.26, v_num=9, reward=-4.39, last reward=-5.05]\n"
          ]
        }
      ],
      "source": [
        "# Trick to make calculations faster\n",
        "torch.set_float32_matmul_precision(\"medium\")\n",
        "\n",
        "# Wandb Logger - we can use others as well as simply `None`\n",
        "# logger = pl.loggers.WandbLogger(project=\"torchrl\", name=\"pendulum\")\n",
        "logger = pl.loggers.CSVLogger(\"logs\", name=\"pendulum\")\n",
        "\n",
        "# Instantiate the module\n",
        "model = RLLightningModule(env, policy)\n",
        "\n",
        "# Trainer\n",
        "trainer = pl.Trainer(\n",
        "    max_epochs= epochs,\n",
        "    num_nodes=1,\n",
        "    devices=2,\n",
        "    accelerator=\"cuda\",\n",
        "    logger=logger,\n",
        "    log_every_n_steps=1,   \n",
        "    gradient_clip_val=1.0, # clip gradients to avoid exploding gradients\n",
        ")\n",
        "\n",
        "# Fit the model\n",
        "trainer.fit(model)"
      ]
    },
    {
      "attachments": {},
      "cell_type": "markdown",
      "metadata": {},
      "source": [
        "### Plot results"
      ]
    },
    {
      "cell_type": "code",
      "execution_count": 25,
      "metadata": {},
      "outputs": [
        {
          "data": {
            "text/plain": [
              "Text(0.5, 0, 'Step')"
            ]
          },
          "execution_count": 25,
          "metadata": {},
          "output_type": "execute_result"
        },
        {
          "data": {
            "image/png": "[encoded data removed]",
            "text/plain": [
              "<Figure size 1000x500 with 2 Axes>"
            ]
          },
          "metadata": {},
          "output_type": "display_data"
        }
      ],
      "source": [
        "import pandas as pd\n",
        "import matplotlib.pyplot as plt\n",
        "import glob\n",
        "import os\n",
        "\n",
        "# This plotting is for CSV logger - might not work with DataParallel\n",
        "# You may use another logger such as WandbLogger\n",
        "root_dir = logger.log_dir\n",
        "csv_file = glob.glob(os.path.join(root_dir, \"*.csv\"))[0]\n",
        "df = pd.read_csv(csv_file)\n",
        "df.head()\n",
        "\n",
        "fig, axs = plt.subplots(1, 2, figsize=(10, 5))\n",
        "axs[0].plot(df[\"step\"], df[\"reward\"], label=\"reward\")\n",
        "axs[0].set_xlabel(\"Step\")\n",
        "axs[0].set_ylabel(\"Returns\")\n",
        "axs[1].plot(df[\"step\"], df[\"last reward\"], label=\"last reward\")\n",
        "axs[1].set_ylabel(\"Last Reward\")\n",
        "axs[1].set_xlabel(\"Step\")"
      ]
    }
  ],
  "metadata": {
    "kernelspec": {
      "display_name": "env",
      "language": "python",
      "name": "python3"
    },
    "language_info": {
      "codemirror_mode": {
        "name": "ipython",
        "version": 3
      },
      "file_extension": ".py",
      "mimetype": "text/x-python",
      "name": "python",
      "nbconvert_exporter": "python",
      "pygments_lexer": "ipython3",
      "version": "3.9.12"
    },
    "vscode": {
      "interpreter": {
        "hash": "fbc5b198709957cb10390a2819ca930d3578f48e335d60395e01c5208a66cb86"
      }
    }
  },
  "nbformat": 4,
  "nbformat_minor": 0
}
